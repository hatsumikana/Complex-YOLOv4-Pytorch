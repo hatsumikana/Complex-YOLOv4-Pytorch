{
 "cells": [
  {
   "cell_type": "markdown",
   "metadata": {},
   "source": [
    "# Calculate average fps"
   ]
  },
  {
   "cell_type": "code",
   "execution_count": 1,
   "metadata": {},
   "outputs": [
    {
     "name": "stdout",
     "output_type": "stream",
     "text": [
      "8.638140000000035\n"
     ]
    }
   ],
   "source": [
    "f = open(\"fps.txt\", \"r\")\n",
    "total = 0\n",
    "avg_fps = 0\n",
    "for x in f:\n",
    "    # print(int(x.strip()))\n",
    "    total += float(x.strip())\n",
    "avg_fps = total/2000\n",
    "print(avg_fps) "
   ]
  },
  {
   "cell_type": "code",
   "execution_count": 2,
   "metadata": {},
   "outputs": [
    {
     "name": "stdout",
     "output_type": "stream",
     "text": [
      "115.76795000000016\n"
     ]
    }
   ],
   "source": [
    "f = open(\"time.txt\", \"r\")\n",
    "total = 0\n",
    "avg_time = 0\n",
    "for x in f:\n",
    "    # print(int(x.strip()))\n",
    "    total += float(x.strip())\n",
    "avg_time = total/2000\n",
    "print(avg_time) "
   ]
  },
  {
   "cell_type": "code",
   "execution_count": 1,
   "metadata": {},
   "outputs": [],
   "source": [
    "import torch\n",
    "torch.cuda.empty_cache()"
   ]
  },
  {
   "cell_type": "code",
   "execution_count": null,
   "metadata": {},
   "outputs": [],
   "source": [
    "[[  ,        nan,        nan,  ..., 5.0272e-01, 8.2966e-01,\n",
    "         1.0000e+00],\n",
    "        [1.7195e+02, 4.0338e+02, 8.5830e+00,  ..., 6.0968e-01, 6.8277e-01,\n",
    "         0.0000e+00]]"
   ]
  },
  {
   "cell_type": "code",
   "execution_count": 7,
   "metadata": {},
   "outputs": [
    {
     "name": "stdout",
     "output_type": "stream",
     "text": [
      "tensor([1., nan, 3.])\n",
      "tensor([1., nan, 3.])\n"
     ]
    }
   ],
   "source": [
    "import torch\n",
    "x = torch.tensor([1, 2, 3]).float()\n",
    "x[x == 2] = float('nan')\n",
    "\n",
    "print(x)\n",
    "\n",
    "torch.nan_to_num(x, nan=0.0)\n",
    "print(x)"
   ]
  },
  {
   "cell_type": "code",
   "execution_count": 23,
   "metadata": {},
   "outputs": [
    {
     "name": "stdout",
     "output_type": "stream",
     "text": [
      "tensor([   nan,    nan,    nan, 3.1400])\n",
      "yes\n"
     ]
    }
   ],
   "source": [
    "x = torch.tensor([float('nan'), float('nan'), -float('nan'), 3.14])\n",
    "print(x)\n",
    "# y = torch.nan_to_num(x, nan=2.0)\n",
    "y = torch.isnan(x).any()\n",
    "if y == True:\n",
    "    print('yes')"
   ]
  },
  {
   "cell_type": "code",
   "execution_count": 14,
   "metadata": {},
   "outputs": [
    {
     "name": "stdout",
     "output_type": "stream",
     "text": [
      "tensor([ 1.0000,  1.0000, -2.0000,  3.1400])\n",
      "tensor([ 1.0000,  1.0000, -2.0000,  3.1400])\n"
     ]
    }
   ],
   "source": [
    "x = torch.tensor([float('1'), float('1'), -float('2'), 3.14])\n",
    "print(x)\n",
    "y = torch.nan_to_num(x, nan=2.0)\n",
    "print(y)"
   ]
  },
  {
   "cell_type": "code",
   "execution_count": 19,
   "metadata": {},
   "outputs": [
    {
     "ename": "RuntimeError",
     "evalue": "Boolean value of Tensor with more than one value is ambiguous",
     "output_type": "error",
     "traceback": [
      "\u001b[0;31m---------------------------------------------------------------------------\u001b[0m",
      "\u001b[0;31mRuntimeError\u001b[0m                              Traceback (most recent call last)",
      "\u001b[1;32m/home/lionsbot/Desktop/Hatsumi/Complex-YOLOv4-Pytorch/src/mine.ipynb Cell 9'\u001b[0m in \u001b[0;36m<cell line: 4>\u001b[0;34m()\u001b[0m\n\u001b[1;32m      <a href='vscode-notebook-cell:/home/lionsbot/Desktop/Hatsumi/Complex-YOLOv4-Pytorch/src/mine.ipynb#ch0000007?line=1'>2</a>\u001b[0m x \u001b[39m=\u001b[39m torch\u001b[39m.\u001b[39mtensor([\u001b[39mfloat\u001b[39m(\u001b[39m'\u001b[39m\u001b[39mnan\u001b[39m\u001b[39m'\u001b[39m), \u001b[39mfloat\u001b[39m(\u001b[39m'\u001b[39m\u001b[39m1\u001b[39m\u001b[39m'\u001b[39m), \u001b[39m-\u001b[39m\u001b[39mfloat\u001b[39m(\u001b[39m'\u001b[39m\u001b[39m2\u001b[39m\u001b[39m'\u001b[39m), \u001b[39m3.14\u001b[39m])\n\u001b[1;32m      <a href='vscode-notebook-cell:/home/lionsbot/Desktop/Hatsumi/Complex-YOLOv4-Pytorch/src/mine.ipynb#ch0000007?line=2'>3</a>\u001b[0m y \u001b[39m=\u001b[39m torch\u001b[39m.\u001b[39misnan(x)\n\u001b[0;32m----> <a href='vscode-notebook-cell:/home/lionsbot/Desktop/Hatsumi/Complex-YOLOv4-Pytorch/src/mine.ipynb#ch0000007?line=3'>4</a>\u001b[0m \u001b[39mif\u001b[39;00m y \u001b[39m==\u001b[39m \u001b[39mTrue\u001b[39;00m:\n\u001b[1;32m      <a href='vscode-notebook-cell:/home/lionsbot/Desktop/Hatsumi/Complex-YOLOv4-Pytorch/src/mine.ipynb#ch0000007?line=4'>5</a>\u001b[0m     \u001b[39mprint\u001b[39m(\u001b[39m\"\u001b[39m\u001b[39myes\u001b[39m\u001b[39m\"\u001b[39m)\n",
      "\u001b[0;31mRuntimeError\u001b[0m: Boolean value of Tensor with more than one value is ambiguous"
     ]
    }
   ],
   "source": [
    "import math\n",
    "x = torch.tensor([float('nan'), float('1'), -float('2'), 3.14])\n",
    "y = torch.isnan(x)\n",
    "if y == True:\n",
    "    print(\"yes\")"
   ]
  },
  {
   "cell_type": "code",
   "execution_count": null,
   "metadata": {},
   "outputs": [],
   "source": []
  }
 ],
 "metadata": {
  "interpreter": {
   "hash": "916dbcbb3f70747c44a77c7bcd40155683ae19c65e1c03b4aa3499c5328201f1"
  },
  "kernelspec": {
   "display_name": "Python 3.8.10 64-bit",
   "language": "python",
   "name": "python3"
  },
  "language_info": {
   "codemirror_mode": {
    "name": "ipython",
    "version": 3
   },
   "file_extension": ".py",
   "mimetype": "text/x-python",
   "name": "python",
   "nbconvert_exporter": "python",
   "pygments_lexer": "ipython3",
   "version": "3.8.10"
  },
  "orig_nbformat": 4
 },
 "nbformat": 4,
 "nbformat_minor": 2
}
